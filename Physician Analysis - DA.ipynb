{
 "cells": [
  {
   "cell_type": "markdown",
   "id": "946680c6",
   "metadata": {},
   "source": [
    "# Instructions:\n",
    "You are provided with an Excel file containing the following columns:\n",
    "1. Referral date\n",
    "2. Patient ID\n",
    "3. Referring Physician First Name\n",
    "4. Referring Physician Last Name\n",
    "\n",
    "Your task is to perform an analysis of month-wise referring physician status based on the following definition of statuses:"
   ]
  },
  {
   "cell_type": "markdown",
   "id": "0c45518e",
   "metadata": {},
   "source": [
    "# Referring Physician Status Definitions:\n",
    "\n",
    "1. **Active**: Physicians who have referred at least one patient in the last 3 months.\n",
    "2. **Inactive**: Physicians who have not referred any patients in the last 3 months but have referred patients in the past.\n",
    "3. **New**: Physicians who have referred their first patient.\n",
    "4. **Reactivated**: Physicians who were previously inactive but have referred patients again in the last 3 months."
   ]
  },
  {
   "cell_type": "markdown",
   "id": "ee936910",
   "metadata": {},
   "source": [
    "# Tasks:\n",
    "1. Load the provided Excel file into your preferred data analysis tool (e.g., Python, R, etc.).\n",
    "3. Calculate the referring physician status for each physician based on the provided definitions.\n",
    "4. Create a summary table or report that shows the count of physicians in each status category for each month.\n",
    "5. Create a visual representation (e.g., line chart or bar chart) of the monthly status distribution of referring physicians. Each status category should be represented as a different color on the chart.\n",
    "6. Write a brief analysis (around 100 words) of any interesting insights or trends you observe in the data based on the charts and tables you have created."
   ]
  },
  {
   "cell_type": "markdown",
   "id": "2ffd3368",
   "metadata": {},
   "source": [
    "# Deliverables:\n",
    "- Code/script used for data analysis.\n",
    "- Summary table or report showing the count of physicians in each status category for each month.\n",
    "- Visual representation (chart) of the monthly status distribution of referring physicians.\n",
    "- Written analysis of insights and trends."
   ]
  },
  {
   "cell_type": "markdown",
   "id": "23a594fc",
   "metadata": {},
   "source": [
    "# Evaluation Criteria:\n",
    "- Correctness of data analysis.\n",
    "- Proper data preprocessing and cleaning.\n",
    "- Accurate calculation of referring physician statuses.\n",
    "- Creation of clear and visually appealing charts.\n",
    "- Ability to communicate insights effectively."
   ]
  },
  {
   "cell_type": "markdown",
   "id": "98dd299f",
   "metadata": {},
   "source": [
    "# An analysis of month-wise referring physician status\n",
    "\n",
    "## Status Definitions:\n",
    "\n",
    "1. **Active**: Physicians who have referred at least one patient in the last 3 months.\n",
    "2. **Inactive**: Physicians who have not referred any patients in the last 3 months but have referred patients in the past.\n",
    "3. **New**: Physicians who have referred their first patient.\n",
    "4. **Reactivated**: Physicians who were previously inactive but have referred patients again in the last 3 months."
   ]
  },
  {
   "cell_type": "markdown",
   "id": "61b5d386",
   "metadata": {},
   "source": [
    "### Necessary Imports"
   ]
  },
  {
   "cell_type": "code",
   "execution_count": 1,
   "id": "1fa6b7cb",
   "metadata": {},
   "outputs": [],
   "source": [
    "import pandas as pd\n",
    "import numpy as np\n",
    "from datetime import datetime\n",
    "import matplotlib.pyplot as plt"
   ]
  },
  {
   "cell_type": "code",
   "execution_count": 2,
   "id": "e1e6b1f5",
   "metadata": {},
   "outputs": [],
   "source": [
    "# file_path to read\n",
    "file_path = \"sample file.xlsx\""
   ]
  },
  {
   "cell_type": "markdown",
   "id": "475e79db",
   "metadata": {},
   "source": [
    "#### Load the provided Excel file into your preferred data analysis tool (e.g., Python, R, etc.)."
   ]
  },
  {
   "cell_type": "code",
   "execution_count": 3,
   "id": "64514c98",
   "metadata": {},
   "outputs": [],
   "source": [
    "df = pd.read_excel(file_path)"
   ]
  },
  {
   "cell_type": "code",
   "execution_count": 4,
   "id": "64482b31",
   "metadata": {},
   "outputs": [
    {
     "data": {
      "text/plain": [
       "Index(['referral_date', 'patient id', 'Referred by First Name',\n",
       "       'Referred by last name'],\n",
       "      dtype='object')"
      ]
     },
     "execution_count": 4,
     "metadata": {},
     "output_type": "execute_result"
    }
   ],
   "source": [
    "# view columns names\n",
    "df.columns"
   ]
  },
  {
   "cell_type": "markdown",
   "id": "11d2e0a4",
   "metadata": {},
   "source": [
    "#### Calculate the referring physician status for each physician based on the provided definitions.\n",
    "\n",
    "#### Status Definitions:\n",
    "\n",
    "1. **Active**: Physicians who have referred at least one patient in the last 3 months.\n",
    "2. **Inactive**: Physicians who have not referred any patients in the last 3 months but have referred patients in the past.\n",
    "3. **New**: Physicians who have referred their first patient.\n",
    "4. **Reactivated**: Physicians who were previously inactive but have referred patients again in the last 3 months."
   ]
  },
  {
   "cell_type": "code",
   "execution_count": 5,
   "id": "9ac6a2ec",
   "metadata": {},
   "outputs": [],
   "source": [
    "# reconstruct referral date to month and year\n",
    "df[\"referral_date\"] = df[\"referral_date\"].apply( lambda x : f\"{x.month}/{x.year}\")"
   ]
  },
  {
   "cell_type": "code",
   "execution_count": 6,
   "id": "ecbb128c",
   "metadata": {},
   "outputs": [],
   "source": [
    "# create a column with full names of rerferrer\n",
    "df[\"physician\"] = [ f\"{first} {last}\" for first, last in (zip(df[\"Referred by First Name\"], df[\"Referred by last name\"])) ]"
   ]
  },
  {
   "cell_type": "code",
   "execution_count": 7,
   "id": "0ecbdf34",
   "metadata": {},
   "outputs": [
    {
     "data": {
      "text/html": [
       "<div>\n",
       "<style scoped>\n",
       "    .dataframe tbody tr th:only-of-type {\n",
       "        vertical-align: middle;\n",
       "    }\n",
       "\n",
       "    .dataframe tbody tr th {\n",
       "        vertical-align: top;\n",
       "    }\n",
       "\n",
       "    .dataframe thead th {\n",
       "        text-align: right;\n",
       "    }\n",
       "</style>\n",
       "<table border=\"1\" class=\"dataframe\">\n",
       "  <thead>\n",
       "    <tr style=\"text-align: right;\">\n",
       "      <th></th>\n",
       "      <th>physician</th>\n",
       "      <th>referral_date</th>\n",
       "      <th>patient id</th>\n",
       "    </tr>\n",
       "  </thead>\n",
       "  <tbody>\n",
       "    <tr>\n",
       "      <th>0</th>\n",
       "      <td>Ethan Smith</td>\n",
       "      <td>3/2023</td>\n",
       "      <td>1215</td>\n",
       "    </tr>\n",
       "    <tr>\n",
       "      <th>1</th>\n",
       "      <td>Olivia Johnson</td>\n",
       "      <td>3/2023</td>\n",
       "      <td>1154</td>\n",
       "    </tr>\n",
       "    <tr>\n",
       "      <th>2</th>\n",
       "      <td>Liam Brown</td>\n",
       "      <td>3/2023</td>\n",
       "      <td>1301</td>\n",
       "    </tr>\n",
       "    <tr>\n",
       "      <th>3</th>\n",
       "      <td>Emma Davis</td>\n",
       "      <td>3/2023</td>\n",
       "      <td>1298</td>\n",
       "    </tr>\n",
       "    <tr>\n",
       "      <th>4</th>\n",
       "      <td>Noah Miller</td>\n",
       "      <td>10/2022</td>\n",
       "      <td>1165</td>\n",
       "    </tr>\n",
       "  </tbody>\n",
       "</table>\n",
       "</div>"
      ],
      "text/plain": [
       "        physician referral_date  patient id\n",
       "0     Ethan Smith        3/2023        1215\n",
       "1  Olivia Johnson        3/2023        1154\n",
       "2      Liam Brown        3/2023        1301\n",
       "3      Emma Davis        3/2023        1298\n",
       "4     Noah Miller       10/2022        1165"
      ]
     },
     "execution_count": 7,
     "metadata": {},
     "output_type": "execute_result"
    }
   ],
   "source": [
    "# get a peek at the first 5 rows\n",
    "df = df[[\"physician\", \"referral_date\", \"patient id\"]]\n",
    "df.head()"
   ]
  },
  {
   "cell_type": "code",
   "execution_count": 8,
   "id": "d7aa9c00",
   "metadata": {},
   "outputs": [],
   "source": [
    "# physician group\n",
    "physician_group = df.groupby('physician')"
   ]
  },
  {
   "cell_type": "code",
   "execution_count": 9,
   "id": "f8802841",
   "metadata": {},
   "outputs": [],
   "source": [
    "# calculate the referal count for current month\n",
    "new_df = pd.DataFrame()\n",
    "for physician_group_name, physician_group_df in physician_group:\n",
    "    for date_group, date_df in physician_group_df.groupby(\"referral_date\"):\n",
    "        temp_df = pd.DataFrame({\"physician\" : [physician_group_name], \"referral_date\" : [date_group], \"referral_count\" : [date_df[\"patient id\"].count()]})\n",
    "        new_df = pd.concat([new_df, temp_df])"
   ]
  },
  {
   "cell_type": "code",
   "execution_count": 10,
   "id": "95af7c5e",
   "metadata": {},
   "outputs": [
    {
     "data": {
      "text/html": [
       "<div>\n",
       "<style scoped>\n",
       "    .dataframe tbody tr th:only-of-type {\n",
       "        vertical-align: middle;\n",
       "    }\n",
       "\n",
       "    .dataframe tbody tr th {\n",
       "        vertical-align: top;\n",
       "    }\n",
       "\n",
       "    .dataframe thead th {\n",
       "        text-align: right;\n",
       "    }\n",
       "</style>\n",
       "<table border=\"1\" class=\"dataframe\">\n",
       "  <thead>\n",
       "    <tr style=\"text-align: right;\">\n",
       "      <th></th>\n",
       "      <th>physician</th>\n",
       "      <th>referral_date</th>\n",
       "      <th>referral_count</th>\n",
       "    </tr>\n",
       "  </thead>\n",
       "  <tbody>\n",
       "    <tr>\n",
       "      <th>0</th>\n",
       "      <td>Abigail Adams</td>\n",
       "      <td>1/2023</td>\n",
       "      <td>1</td>\n",
       "    </tr>\n",
       "    <tr>\n",
       "      <th>0</th>\n",
       "      <td>Abigail Adams</td>\n",
       "      <td>2/2023</td>\n",
       "      <td>2</td>\n",
       "    </tr>\n",
       "    <tr>\n",
       "      <th>0</th>\n",
       "      <td>Abigail Adams</td>\n",
       "      <td>3/2023</td>\n",
       "      <td>4</td>\n",
       "    </tr>\n",
       "    <tr>\n",
       "      <th>0</th>\n",
       "      <td>Abigail Adams</td>\n",
       "      <td>4/2023</td>\n",
       "      <td>3</td>\n",
       "    </tr>\n",
       "    <tr>\n",
       "      <th>0</th>\n",
       "      <td>Abigail Adams</td>\n",
       "      <td>5/2023</td>\n",
       "      <td>3</td>\n",
       "    </tr>\n",
       "  </tbody>\n",
       "</table>\n",
       "</div>"
      ],
      "text/plain": [
       "       physician referral_date  referral_count\n",
       "0  Abigail Adams        1/2023               1\n",
       "0  Abigail Adams        2/2023               2\n",
       "0  Abigail Adams        3/2023               4\n",
       "0  Abigail Adams        4/2023               3\n",
       "0  Abigail Adams        5/2023               3"
      ]
     },
     "execution_count": 10,
     "metadata": {},
     "output_type": "execute_result"
    }
   ],
   "source": [
    "# peek at new dataset\n",
    "new_df.head()"
   ]
  },
  {
   "cell_type": "code",
   "execution_count": 11,
   "id": "6b02b37f",
   "metadata": {},
   "outputs": [],
   "source": [
    "# calculate 3 months referral sum\n",
    "physician_grouped = new_df.groupby(\"physician\")\n",
    "master_df_list = []\n",
    "for physician, physician_df in physician_grouped:\n",
    "    physician_df = physician_df.reset_index()\n",
    "    physician_df[\"referral_sum\"] = np.nan\n",
    "    for i, record in physician_df.iterrows():\n",
    "        if i >= 2:\n",
    "            start = i - 2\n",
    "            end = i + 1\n",
    "            physician_df.loc[i, \"referral_sum\"] = physician_df.iloc[start:end][\"referral_count\"].sum()\n",
    "        else:\n",
    "            start = None\n",
    "            end = i + 1\n",
    "            physician_df.loc[i, \"referral_sum\"] = physician_df.iloc[start:end][\"referral_count\"].sum()\n",
    "    master_df_list.append(physician_df)"
   ]
  },
  {
   "cell_type": "code",
   "execution_count": 12,
   "id": "581a1cb8",
   "metadata": {},
   "outputs": [],
   "source": [
    "master_df = pd.concat(master_df_list)"
   ]
  },
  {
   "cell_type": "code",
   "execution_count": 13,
   "id": "0740e82b",
   "metadata": {},
   "outputs": [],
   "source": [
    "# convert column float to int\n",
    "master_df[\"referral_sum\"] = master_df[\"referral_sum\"].astype(int)"
   ]
  },
  {
   "cell_type": "code",
   "execution_count": 14,
   "id": "188e11ba",
   "metadata": {},
   "outputs": [],
   "source": [
    "master_df[[\"Active\", \"Inactive\", \"New\", \"Reactivated\"]] = np.nan"
   ]
  },
  {
   "cell_type": "code",
   "execution_count": 15,
   "id": "0adf4ebb",
   "metadata": {
    "scrolled": true
   },
   "outputs": [],
   "source": [
    "master_df = master_df.drop(columns=[\"index\"])"
   ]
  },
  {
   "cell_type": "code",
   "execution_count": 16,
   "id": "55111c9a",
   "metadata": {
    "scrolled": true
   },
   "outputs": [],
   "source": [
    "output_df = pd.DataFrame(columns=master_df.columns)\n",
    "for i, record in master_df.iterrows():\n",
    "    # iterate each record\n",
    "    if record[\"referral_sum\"] >=1:\n",
    "        # Physicians who have referred at least one patient in the last 3 months.\n",
    "        record[\"Active\"] = 1\n",
    "\n",
    "    if record[\"referral_sum\"] == 0:\n",
    "        # Physicians who have not referred any patients in the last 3 months\n",
    "\n",
    "        # but have referred patients in the past.\n",
    "        # old records of referred\n",
    "        if (master_df[master_df['physician'] == record['physician']].iloc[:i][\"referral_count\"].sum()) >= 1:\n",
    "            record[\"Inactive\"] = 1\n",
    "\n",
    "    if (master_df[master_df['physician'] == record['physician']][\"referral_count\"].sum()) == 1:\n",
    "        #Physicians who have referred their first patient.\n",
    "        record[\"New\"] = 1\n",
    "\n",
    "    if (output_df[output_df['physician'] == record[\"physician\"]][\"Inactive\"].count() > 0) and (record[\"referral_sum\"] >=1):\n",
    "        #Physicians who were previously inactive and have referred patients again in the last 3 months.\n",
    "        record[\"Reactivated\"] = 1\n",
    "    output_df = pd.concat([output_df, pd.DataFrame([record])])"
   ]
  },
  {
   "cell_type": "markdown",
   "id": "808d483a",
   "metadata": {},
   "source": [
    "#### Create a summary table or report that shows the count of physicians in each status category for each month.\n",
    "#### now we will create a table that is group by months and other columns will be status_count\n",
    "#### that status count will represent count of physicians status in each month"
   ]
  },
  {
   "cell_type": "code",
   "execution_count": 17,
   "id": "363f6d7c",
   "metadata": {},
   "outputs": [],
   "source": [
    "# this report df will assist in further visualizations.\n",
    "report_df = pd.DataFrame(columns=[\"month\", 'Active_Count', 'Inactive_Count', 'New_Count', 'Reactivated_Count'])\n",
    "for month, month_group in output_df.groupby(\"referral_date\"):\n",
    "    temp_df = pd.DataFrame([{'month' : month, 'Active_Count' : month_group[\"Active\"].count(),\n",
    "    'Inactive_Count' : month_group[\"Inactive\"].count(),\n",
    "    'New_Count' : month_group[\"New\"].count(),\n",
    "    'Reactivated_Count' : month_group[\"Reactivated\"].count()\n",
    "    }])\n",
    "\n",
    "    report_df = pd.concat([report_df, temp_df])"
   ]
  },
  {
   "cell_type": "code",
   "execution_count": 18,
   "id": "aa5fb548",
   "metadata": {},
   "outputs": [],
   "source": [
    "report_df[\"month\"] = report_df[\"month\"].apply( lambda x : datetime.strptime(x, '%m/%Y'))\n",
    "report_df = report_df.sort_values(\"month\")\n",
    "report_df[\"month\"] = report_df[\"month\"].apply( lambda x : x.strftime(\"%m/%Y\"))"
   ]
  },
  {
   "cell_type": "code",
   "execution_count": 19,
   "id": "bf881bec",
   "metadata": {},
   "outputs": [
    {
     "data": {
      "text/html": [
       "<div>\n",
       "<style scoped>\n",
       "    .dataframe tbody tr th:only-of-type {\n",
       "        vertical-align: middle;\n",
       "    }\n",
       "\n",
       "    .dataframe tbody tr th {\n",
       "        vertical-align: top;\n",
       "    }\n",
       "\n",
       "    .dataframe thead th {\n",
       "        text-align: right;\n",
       "    }\n",
       "</style>\n",
       "<table border=\"1\" class=\"dataframe\">\n",
       "  <thead>\n",
       "    <tr style=\"text-align: right;\">\n",
       "      <th></th>\n",
       "      <th>month</th>\n",
       "      <th>Active_Count</th>\n",
       "      <th>Inactive_Count</th>\n",
       "      <th>New_Count</th>\n",
       "      <th>Reactivated_Count</th>\n",
       "    </tr>\n",
       "  </thead>\n",
       "  <tbody>\n",
       "    <tr>\n",
       "      <th>0</th>\n",
       "      <td>06/2022</td>\n",
       "      <td>1</td>\n",
       "      <td>0</td>\n",
       "      <td>0</td>\n",
       "      <td>0</td>\n",
       "    </tr>\n",
       "    <tr>\n",
       "      <th>0</th>\n",
       "      <td>08/2022</td>\n",
       "      <td>1</td>\n",
       "      <td>0</td>\n",
       "      <td>0</td>\n",
       "      <td>0</td>\n",
       "    </tr>\n",
       "    <tr>\n",
       "      <th>0</th>\n",
       "      <td>10/2022</td>\n",
       "      <td>4</td>\n",
       "      <td>0</td>\n",
       "      <td>0</td>\n",
       "      <td>0</td>\n",
       "    </tr>\n",
       "    <tr>\n",
       "      <th>0</th>\n",
       "      <td>11/2022</td>\n",
       "      <td>2</td>\n",
       "      <td>0</td>\n",
       "      <td>0</td>\n",
       "      <td>0</td>\n",
       "    </tr>\n",
       "    <tr>\n",
       "      <th>0</th>\n",
       "      <td>12/2022</td>\n",
       "      <td>2</td>\n",
       "      <td>0</td>\n",
       "      <td>0</td>\n",
       "      <td>0</td>\n",
       "    </tr>\n",
       "    <tr>\n",
       "      <th>0</th>\n",
       "      <td>01/2023</td>\n",
       "      <td>28</td>\n",
       "      <td>0</td>\n",
       "      <td>0</td>\n",
       "      <td>0</td>\n",
       "    </tr>\n",
       "    <tr>\n",
       "      <th>0</th>\n",
       "      <td>02/2023</td>\n",
       "      <td>41</td>\n",
       "      <td>0</td>\n",
       "      <td>0</td>\n",
       "      <td>0</td>\n",
       "    </tr>\n",
       "    <tr>\n",
       "      <th>0</th>\n",
       "      <td>03/2023</td>\n",
       "      <td>43</td>\n",
       "      <td>0</td>\n",
       "      <td>0</td>\n",
       "      <td>0</td>\n",
       "    </tr>\n",
       "    <tr>\n",
       "      <th>0</th>\n",
       "      <td>04/2023</td>\n",
       "      <td>41</td>\n",
       "      <td>0</td>\n",
       "      <td>0</td>\n",
       "      <td>0</td>\n",
       "    </tr>\n",
       "    <tr>\n",
       "      <th>0</th>\n",
       "      <td>05/2023</td>\n",
       "      <td>39</td>\n",
       "      <td>0</td>\n",
       "      <td>0</td>\n",
       "      <td>0</td>\n",
       "    </tr>\n",
       "    <tr>\n",
       "      <th>0</th>\n",
       "      <td>06/2023</td>\n",
       "      <td>43</td>\n",
       "      <td>0</td>\n",
       "      <td>0</td>\n",
       "      <td>0</td>\n",
       "    </tr>\n",
       "    <tr>\n",
       "      <th>0</th>\n",
       "      <td>07/2023</td>\n",
       "      <td>44</td>\n",
       "      <td>0</td>\n",
       "      <td>0</td>\n",
       "      <td>0</td>\n",
       "    </tr>\n",
       "    <tr>\n",
       "      <th>0</th>\n",
       "      <td>08/2023</td>\n",
       "      <td>41</td>\n",
       "      <td>0</td>\n",
       "      <td>0</td>\n",
       "      <td>0</td>\n",
       "    </tr>\n",
       "  </tbody>\n",
       "</table>\n",
       "</div>"
      ],
      "text/plain": [
       "     month Active_Count Inactive_Count New_Count Reactivated_Count\n",
       "0  06/2022            1              0         0                 0\n",
       "0  08/2022            1              0         0                 0\n",
       "0  10/2022            4              0         0                 0\n",
       "0  11/2022            2              0         0                 0\n",
       "0  12/2022            2              0         0                 0\n",
       "0  01/2023           28              0         0                 0\n",
       "0  02/2023           41              0         0                 0\n",
       "0  03/2023           43              0         0                 0\n",
       "0  04/2023           41              0         0                 0\n",
       "0  05/2023           39              0         0                 0\n",
       "0  06/2023           43              0         0                 0\n",
       "0  07/2023           44              0         0                 0\n",
       "0  08/2023           41              0         0                 0"
      ]
     },
     "execution_count": 19,
     "metadata": {},
     "output_type": "execute_result"
    }
   ],
   "source": [
    "report_df"
   ]
  },
  {
   "cell_type": "markdown",
   "id": "40809c32",
   "metadata": {},
   "source": [
    "#### Create a visual representation (e.g., line chart or bar chart) of the monthly status distribution of referring physicians. Each status category should be represented as a different color on the chart."
   ]
  },
  {
   "cell_type": "code",
   "execution_count": 20,
   "id": "cbcbb22f",
   "metadata": {},
   "outputs": [
    {
     "data": {
      "text/plain": [
       "<Figure size 400x400 with 0 Axes>"
      ]
     },
     "metadata": {},
     "output_type": "display_data"
    }
   ],
   "source": [
    "plt.figure(figsize=(4, 4))\n",
    "bar_colors = {\n",
    "    'Active_Count' : \"green\", 'Inactive_Count' : \"red\", 'New_Count' : \"blue\", 'Reactivated_Count' : \"orange\"\n",
    "}"
   ]
  },
  {
   "cell_type": "code",
   "execution_count": 21,
   "id": "49a97f72",
   "metadata": {
    "scrolled": true
   },
   "outputs": [
    {
     "data": {
      "image/png": "[encoded data removed]",
      "text/plain": [
       "<Figure size 640x480 with 1 Axes>"
      ]
     },
     "metadata": {},
     "output_type": "display_data"
    }
   ],
   "source": [
    "# Here we will render a line plot\n",
    "# A line plot is a type of graph that displays data points as markers connected by lines. \n",
    "\n",
    "plt.xlabel('Dates')\n",
    "plt.ylabel('Number of Physicians')\n",
    "plt.title('Monthly Status Distribution of Referring Physicians')\n",
    "\n",
    "x_row = report_df['month']\n",
    "y_columns = report_df.columns[1:]\n",
    "\n",
    "# rotate the dates\n",
    "plt.xticks(rotation=45)\n",
    "\n",
    "\n",
    "for col in y_columns:\n",
    "    plt.plot(x_row, report_df[col], label=col, color=bar_colors[col])"
   ]
  },
  {
   "cell_type": "code",
   "execution_count": 22,
   "id": "e11a474e",
   "metadata": {},
   "outputs": [
    {
     "data": {
      "image/png": "[encoded data removed]",
      "text/plain": [
       "<Figure size 640x480 with 1 Axes>"
      ]
     },
     "metadata": {},
     "output_type": "display_data"
    }
   ],
   "source": [
    "plt.xlabel('Dates')\n",
    "plt.ylabel('Number of Physicians')\n",
    "plt.title('Monthly Status Distribution of Referring Physicians')\n",
    "\n",
    "# rotate the dates\n",
    "plt.xticks(rotation=45)\n",
    "\n",
    "for col in y_columns:\n",
    "    plt.bar(x_row, report_df[col], label=col, color=bar_colors[col])"
   ]
  },
  {
   "cell_type": "markdown",
   "id": "7f6c09a6",
   "metadata": {},
   "source": [
    "#### Write a brief analysis (around 100 words) of any interesting insights or trends you observe in the data based on the charts and tables you have created."
   ]
  },
  {
   "cell_type": "markdown",
   "id": "b825da09",
   "metadata": {},
   "source": [
    "Ans:\n",
    "\n",
    "We have visualize our reporting table and by observing the data points in the Line Plot we can see that the number of active Physician is increasing every month. This trend can easy be seen in the bar graph to. I have use different colors to represent different status count.\n",
    "\n",
    "In the month of 12/2023 the hipe of suddent Active phyiscians. \n",
    "6/2022 and 8/2022 have the same number of active users.\n",
    "3/2023 having the hightest number of active userss.\n",
    "\n",
    "In the analysis we can find the number of active users in a certain month to monitors its current status. Through this status we can make our analytical decisions."
   ]
  },
  {
   "cell_type": "markdown",
   "id": "f4d0e6d9",
   "metadata": {},
   "source": [
    "The ENE"
   ]
  }
 ],
 "metadata": {
  "kernelspec": {
   "display_name": "Python 3 (ipykernel)",
   "language": "python",
   "name": "python3"
  },
  "language_info": {
   "codemirror_mode": {
    "name": "ipython",
    "version": 3
   },
   "file_extension": ".py",
   "mimetype": "text/x-python",
   "name": "python",
   "nbconvert_exporter": "python",
   "pygments_lexer": "ipython3",
   "version": "3.11.5"
  }
 },
 "nbformat": 4,
 "nbformat_minor": 5
}
